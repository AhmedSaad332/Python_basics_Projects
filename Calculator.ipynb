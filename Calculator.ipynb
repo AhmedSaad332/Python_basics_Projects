{
 "cells": [
  {
   "metadata": {},
   "cell_type": "markdown",
   "source": "# Made by Ahmed Saad\n",
   "id": "26ae230889edd6b9"
  },
  {
   "metadata": {},
   "cell_type": "markdown",
   "source": [
    "# Calculator App in Python\n",
    "This notebook demonstrates a simple calculator app implemented in Python.\n",
    "\n",
    "## Introduction\n",
    "The calculator supports basic operations such as addition, subtraction, multiplication, division, and exponentiation (power).\n",
    "It also includes an option to exit the program.\n",
    "\n",
    "### Features\n",
    "- Addition\n",
    "- Subtraction\n",
    "- Multiplication\n",
    "- Division (with division by zero handling)\n",
    "- Power (num1 ^ num2)\n",
    "- Exit option to stop the program\n"
   ],
   "id": "9fa945a13fd6e8d9"
  },
  {
   "metadata": {},
   "cell_type": "markdown",
   "source": [
    "## Code Implementation\n",
    "Below is the full implementation of the calculator program.\n"
   ],
   "id": "44efc09b6e06768e"
  },
  {
   "metadata": {},
   "cell_type": "markdown",
   "source": [
    "## Step 1: Create the Calculator Class\n",
    "We start by defining a class `Calculator` with methods for each operation."
   ],
   "id": "2d9dc47adfbcb59"
  },
  {
   "metadata": {
    "ExecuteTime": {
     "end_time": "2025-09-01T18:30:32.029107Z",
     "start_time": "2025-09-01T18:30:32.023075Z"
    }
   },
   "cell_type": "code",
   "source": [
    "class Calculator:\n",
    "    def __init__(self, num1, num2):\n",
    "        self.num1 = num1\n",
    "        self.num2 = num2\n",
    "\n",
    "    def addition(self):\n",
    "        return self.num1 + self.num2\n",
    "\n",
    "    def subtraction(self):\n",
    "        return self.num1 - self.num2\n",
    "\n",
    "    def multiplication(self):\n",
    "        return self.num1 * self.num2\n",
    "\n",
    "    def division(self):\n",
    "        if self.num2 == 0:\n",
    "            return \"Error! Division by zero.\"\n",
    "        return self.num1 / self.num2\n",
    "\n",
    "    def power(self):\n",
    "        return self.num1 ** self.num2\n",
    "\n",
    "    def exit(self):\n",
    "        return \"Exiting...\""
   ],
   "id": "19a3a13ba98c2a7f",
   "outputs": [],
   "execution_count": 2
  },
  {
   "metadata": {},
   "cell_type": "markdown",
   "source": [
    "## Step 2: Take User Input\n",
    "We ask the user to input two numbers, which will be used in all operations.\n"
   ],
   "id": "906575190e264536"
  },
  {
   "metadata": {
    "ExecuteTime": {
     "end_time": "2025-09-01T18:30:47.142264Z",
     "start_time": "2025-09-01T18:30:42.630686Z"
    }
   },
   "cell_type": "code",
   "source": [
    "num1 = float(input(\"Enter first number: \"))\n",
    "num2 = float(input(\"Enter second number: \"))\n",
    "calculator = Calculator(num1, num2)"
   ],
   "id": "b1057322b19536d6",
   "outputs": [],
   "execution_count": 4
  },
  {
   "metadata": {},
   "cell_type": "markdown",
   "source": [
    "## Step 3: Show Menu Options\n",
    "We display the menu for the user to choose which operation to perform."
   ],
   "id": "717e939c4bbdd122"
  },
  {
   "metadata": {
    "ExecuteTime": {
     "end_time": "2025-09-01T18:30:59.279744Z",
     "start_time": "2025-09-01T18:30:59.275918Z"
    }
   },
   "cell_type": "code",
   "source": [
    "def show_menu():\n",
    "    print(\"\\nChoose operation:\")\n",
    "    print(\"1. Addition\")\n",
    "    print(\"2. Subtraction\")\n",
    "    print(\"3. Multiplication\")\n",
    "    print(\"4. Division\")\n",
    "    print(\"5. Power\")\n",
    "    print(\"6. Exit\")"
   ],
   "id": "abfaf87fb6cf3352",
   "outputs": [],
   "execution_count": 5
  },
  {
   "metadata": {},
   "cell_type": "markdown",
   "source": [
    "## Step 4: Perform Operations\n",
    "We keep running the calculator in a loop until the user chooses to exit."
   ],
   "id": "437bca32e3e31048"
  },
  {
   "metadata": {
    "ExecuteTime": {
     "end_time": "2025-09-01T18:31:25.738080Z",
     "start_time": "2025-09-01T18:31:01.986674Z"
    }
   },
   "cell_type": "code",
   "source": [
    "while True:\n",
    "    show_menu()\n",
    "    choice = input(\"Enter operation: \")\n",
    "\n",
    "    if choice == \"1\":\n",
    "        print(\"Result:\", calculator.addition())\n",
    "    elif choice == \"2\":\n",
    "        print(\"Result:\", calculator.subtraction())\n",
    "    elif choice == \"3\":\n",
    "        print(\"Result:\", calculator.multiplication())\n",
    "    elif choice == \"4\":\n",
    "        print(\"Result:\", calculator.division())\n",
    "    elif choice == \"5\":\n",
    "        print(\"Result:\", calculator.power())\n",
    "    elif choice == \"6\":\n",
    "        print(calculator.exit())\n",
    "        break\n",
    "    else:\n",
    "        print(\"Invalid choice. Please try again.\")"
   ],
   "id": "d6c33e9299e8c761",
   "outputs": [
    {
     "name": "stdout",
     "output_type": "stream",
     "text": [
      "\n",
      "Choose operation:\n",
      "1. Addition\n",
      "2. Subtraction\n",
      "3. Multiplication\n",
      "4. Division\n",
      "5. Power\n",
      "6. Exit\n",
      "Result: 12.0\n",
      "\n",
      "Choose operation:\n",
      "1. Addition\n",
      "2. Subtraction\n",
      "3. Multiplication\n",
      "4. Division\n",
      "5. Power\n",
      "6. Exit\n",
      "Result: 8.0\n",
      "\n",
      "Choose operation:\n",
      "1. Addition\n",
      "2. Subtraction\n",
      "3. Multiplication\n",
      "4. Division\n",
      "5. Power\n",
      "6. Exit\n",
      "Result: 20.0\n",
      "\n",
      "Choose operation:\n",
      "1. Addition\n",
      "2. Subtraction\n",
      "3. Multiplication\n",
      "4. Division\n",
      "5. Power\n",
      "6. Exit\n",
      "Result: 5.0\n",
      "\n",
      "Choose operation:\n",
      "1. Addition\n",
      "2. Subtraction\n",
      "3. Multiplication\n",
      "4. Division\n",
      "5. Power\n",
      "6. Exit\n",
      "Result: 100.0\n",
      "\n",
      "Choose operation:\n",
      "1. Addition\n",
      "2. Subtraction\n",
      "3. Multiplication\n",
      "4. Division\n",
      "5. Power\n",
      "6. Exit\n",
      "Exiting...\n"
     ]
    }
   ],
   "execution_count": 6
  },
  {
   "metadata": {},
   "cell_type": "markdown",
   "source": [
    "## Step 5: End Program Message\n",
    "Once the user chooses option `6`, the program exits with a final message.\n"
   ],
   "id": "a2ea059c1ff7e81b"
  },
  {
   "metadata": {
    "ExecuteTime": {
     "end_time": "2025-09-01T18:31:31.859715Z",
     "start_time": "2025-09-01T18:31:31.855546Z"
    }
   },
   "cell_type": "code",
   "source": "print(\"Thank you for using the Calculator App. Goodbye!\")",
   "id": "c99431e30e3fe6fe",
   "outputs": [
    {
     "name": "stdout",
     "output_type": "stream",
     "text": [
      "Thank you for using the Calculator App. Goodbye!\n"
     ]
    }
   ],
   "execution_count": 7
  }
 ],
 "metadata": {
  "kernelspec": {
   "display_name": "Python 3",
   "language": "python",
   "name": "python3"
  },
  "language_info": {
   "codemirror_mode": {
    "name": "ipython",
    "version": 2
   },
   "file_extension": ".py",
   "mimetype": "text/x-python",
   "name": "python",
   "nbconvert_exporter": "python",
   "pygments_lexer": "ipython2",
   "version": "2.7.6"
  }
 },
 "nbformat": 4,
 "nbformat_minor": 5
}
