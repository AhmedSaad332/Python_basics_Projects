{
 "cells": [
  {
   "cell_type": "markdown",
   "metadata": {
    "id": "KPbLirDp86gd"
   },
   "source": [
    "#### Some suggested tools before you get started:\n",
    "To take input from a user:\n",
    "\n",
    "    player1 = input(\"Please pick a marker 'X' or 'O'\")\n",
    "    \n",
    "Note that input() takes in a string. If you need an integer value, use\n",
    "\n",
    "    position = int(input('Please enter a number'))\n",
    "    \n",
    "<br>To clear the screen between moves:\n",
    "\n",
    "    from IPython.display import clear_output\n",
    "    clear_output()\n",
    "    \n",
    "Note that clear_output() will only work in jupyter. To clear the screen in other IDEs, consider:\n",
    "\n",
    "    print('\\n'*100)\n",
    "    \n",
    "This scrolls the previous board up out of view. Now on to the program!"
   ]
  },
  {
   "cell_type": "markdown",
   "metadata": {
    "id": "yPY21sTD86ge"
   },
   "source": [
    "**Step 1: Write a function that can print out a board. Set up your board as a list, where each index 1-9 corresponds with a number on a number pad, so you get a 3 by 3 board representation.**"
   ]
  },
  {
   "cell_type": "code",
   "metadata": {
    "collapsed": true,
    "jupyter": {
     "outputs_hidden": true
    },
    "id": "1juDbk9f86ge",
    "ExecuteTime": {
     "end_time": "2025-08-29T15:41:26.115877Z",
     "start_time": "2025-08-29T15:41:26.110972Z"
    }
   },
   "source": [
    "from IPython.display import clear_output\n",
    "\n",
    "def display_board(board):\n",
    "    clear_output()\n",
    "    print(board[7] + ' | ' + board[8] + ' | ' + board[9])\n",
    "    print('--+---+--')\n",
    "    print(board[4] + ' | ' + board[5] + ' | ' + board[6])\n",
    "    print('--+---+--')\n",
    "    print(board[1] + ' | ' + board[2] + ' | ' + board[3])"
   ],
   "outputs": [],
   "execution_count": 7
  },
  {
   "cell_type": "markdown",
   "metadata": {
    "id": "GXXprKxS86gf"
   },
   "source": [
    "**TEST Step 1:** run your function on a test version of the board list, and make adjustments as necessary"
   ]
  },
  {
   "cell_type": "code",
   "metadata": {
    "collapsed": true,
    "jupyter": {
     "outputs_hidden": true
    },
    "id": "m7bTqX7U86gf"
   },
   "source": [
    "test_board = ['#','X','O','X','O','X','O','X','O','X']\n",
    "display_board(test_board)"
   ],
   "execution_count": 9,
   "outputs": [
    {
     "name": "stdout",
     "output_type": "stream",
     "text": [
      "X | O | X\n",
      "--+---+--\n",
      "O | X | O\n",
      "--+---+--\n",
      "X | O | X\n"
     ]
    }
   ]
  },
  {
   "cell_type": "markdown",
   "metadata": {
    "id": "cCN7EO9l86gf"
   },
   "source": [
    "**Step 2: Write a function that can take in a player input and assign their marker as 'X' or 'O'. Think about using *while* loops to continually ask until you get a correct answer.**"
   ]
  },
  {
   "cell_type": "code",
   "metadata": {
    "collapsed": true,
    "jupyter": {
     "outputs_hidden": true
    },
    "id": "7HSvJ3pA86gg",
    "ExecuteTime": {
     "end_time": "2025-08-29T15:44:15.249673Z",
     "start_time": "2025-08-29T15:44:15.243034Z"
    }
   },
   "source": [
    "def player_input():\n",
    "    User_Input = \"\"\n",
    "    while User_Input not in [\"X\", \"O\"]:\n",
    "        User_Input = input(\"Player 1: Do you want to be X or O? \").upper()\n",
    "\n",
    "        if User_Input not in [\"X\", \"O\"]:\n",
    "            print(\"Invalid choice. Please choose either 'X' or 'O'.\")\n",
    "\n",
    "    player1 = User_Input\n",
    "    player2 = \"O\" if player1 == \"X\" else \"X\"\n",
    "\n",
    "    return player1, player2\n"
   ],
   "outputs": [],
   "execution_count": 12
  },
  {
   "cell_type": "markdown",
   "metadata": {
    "id": "A-2PSuik86gh"
   },
   "source": [
    "**TEST Step 2:** run the function to make sure it returns the desired output"
   ]
  },
  {
   "cell_type": "code",
   "metadata": {
    "collapsed": true,
    "jupyter": {
     "outputs_hidden": true
    },
    "id": "Q-zupNGV86gh",
    "outputId": "5434cb98-ecc3-4aa6-c272-fea2964b1931",
    "colab": {
     "base_uri": "https://localhost:8080/"
    },
    "ExecuteTime": {
     "end_time": "2025-08-29T15:44:21.141580Z",
     "start_time": "2025-08-29T15:44:16.946093Z"
    }
   },
   "source": [
    "player_input()"
   ],
   "outputs": [
    {
     "data": {
      "text/plain": [
       "('O', 'X')"
      ]
     },
     "execution_count": 13,
     "metadata": {},
     "output_type": "execute_result"
    }
   ],
   "execution_count": 13
  },
  {
   "cell_type": "markdown",
   "metadata": {
    "id": "x0WlmxtO86gi"
   },
   "source": [
    "**Step 3: Write a function that takes in the board list object, a marker ('X' or 'O'), and a desired position (number 1-9) and assigns it to the board.**"
   ]
  },
  {
   "cell_type": "code",
   "metadata": {
    "collapsed": true,
    "jupyter": {
     "outputs_hidden": true
    },
    "id": "ZkKuJrdY86gi",
    "ExecuteTime": {
     "end_time": "2025-08-24T17:10:55.969235Z",
     "start_time": "2025-08-24T17:10:55.966443Z"
    }
   },
   "source": [
    "def place_marker(board, marker, position):\n",
    "    board[position] = marker\n",
    ""
   ],
   "outputs": [],
   "execution_count": 9
  },
  {
   "cell_type": "markdown",
   "metadata": {
    "id": "QTar1Yvt86gi"
   },
   "source": [
    "**TEST Step 3:** run the place marker function using test parameters and display the modified board"
   ]
  },
  {
   "cell_type": "code",
   "metadata": {
    "collapsed": true,
    "jupyter": {
     "outputs_hidden": true
    },
    "id": "FaHdxlNB86gi"
   },
   "source": [
    "place_marker(test_board,'$',8)\n",
    "display_board(test_board)"
   ],
   "execution_count": 10,
   "outputs": []
  },
  {
   "cell_type": "markdown",
   "metadata": {
    "id": "5b8KEdw986gi"
   },
   "source": [
    "**Step 4: Write a function that takes in a board and a mark (X or O) and then checks to see if that mark has won. **"
   ]
  },
  {
   "cell_type": "code",
   "metadata": {
    "collapsed": true,
    "jupyter": {
     "outputs_hidden": true
    },
    "id": "iJFEq7Hz86gi",
    "ExecuteTime": {
     "end_time": "2025-08-24T17:27:47.841142Z",
     "start_time": "2025-08-24T17:27:47.832674Z"
    }
   },
   "source": [
    "def win_check(board, mark):\n",
    "    win_combinations = [\n",
    "        (1, 2, 3), (4, 5, 6), (7, 8, 9),\n",
    "        (1, 4, 7), (2, 5, 8), (3, 6, 9),\n",
    "        (1, 5, 9), (3, 5, 7)\n",
    "    ]\n",
    "\n",
    "    for m in win_combinations:\n",
    "        a, b, c = m\n",
    "        if board[a] == board[b] == board[c] == mark:\n",
    "            return True\n",
    "\n",
    "    return False"
   ],
   "outputs": [],
   "execution_count": 1
  },
  {
   "cell_type": "markdown",
   "metadata": {
    "id": "528TFrA386gi"
   },
   "source": [
    "**TEST Step 4:** run the win_check function against our test_board - it should return True"
   ]
  },
  {
   "cell_type": "code",
   "metadata": {
    "collapsed": true,
    "jupyter": {
     "outputs_hidden": true
    },
    "id": "LGx-pg-J86gi",
    "outputId": "581fff20-708d-45ce-e279-eab1670d106e",
    "colab": {
     "base_uri": "https://localhost:8080/"
    },
    "ExecuteTime": {
     "end_time": "2025-08-24T17:11:00.913329Z",
     "start_time": "2025-08-24T17:11:00.906904Z"
    }
   },
   "source": [
    "win_check(test_board,'X')"
   ],
   "outputs": [
    {
     "data": {
      "text/plain": [
       "True"
      ]
     },
     "execution_count": 12,
     "metadata": {},
     "output_type": "execute_result"
    }
   ],
   "execution_count": 12
  },
  {
   "cell_type": "markdown",
   "metadata": {
    "id": "wrXAVbIN86gj"
   },
   "source": [
    "**Step 5: Write a function that uses the random module to randomly decide which player goes first. You may want to lookup random.randint() Return a string of which player went first.**"
   ]
  },
  {
   "cell_type": "code",
   "metadata": {
    "collapsed": true,
    "jupyter": {
     "outputs_hidden": true
    },
    "id": "UcIwYZqJ86gj",
    "ExecuteTime": {
     "end_time": "2025-08-24T17:11:02.461489Z",
     "start_time": "2025-08-24T17:11:02.457750Z"
    }
   },
   "source": [
    "import random\n",
    "\n",
    "def choose_first():\n",
    "    if random.randint(0, 1) == 0:\n",
    "        return \"Player 1\"\n",
    "    else:\n",
    "        return \"Player 2\""
   ],
   "outputs": [],
   "execution_count": 13
  },
  {
   "cell_type": "markdown",
   "metadata": {
    "id": "oezqglvx86gj"
   },
   "source": [
    "**Step 6: Write a function that returns a boolean indicating whether a space on the board is freely available.**"
   ]
  },
  {
   "cell_type": "code",
   "metadata": {
    "collapsed": true,
    "jupyter": {
     "outputs_hidden": true
    },
    "id": "zOvLyMTE86gj",
    "ExecuteTime": {
     "end_time": "2025-08-24T17:11:03.760365Z",
     "start_time": "2025-08-24T17:11:03.756101Z"
    }
   },
   "source": [
    "def space_check(board, position):\n",
    "  return board[position] == \" \""
   ],
   "outputs": [],
   "execution_count": 14
  },
  {
   "cell_type": "markdown",
   "metadata": {
    "id": "Mu_XYfq786gj"
   },
   "source": "** *italicized text*Step 7: Write a function that checks if the board is full and returns a boolean value. True if full, False otherwise.**"
  },
  {
   "cell_type": "code",
   "metadata": {
    "collapsed": true,
    "jupyter": {
     "outputs_hidden": true
    },
    "id": "U5V2gf6o86gj",
    "ExecuteTime": {
     "end_time": "2025-08-24T17:11:05.077071Z",
     "start_time": "2025-08-24T17:11:05.069807Z"
    }
   },
   "source": [
    "def full_board_check(board):\n",
    "  for i in range(1, 10):\n",
    "        if board[i] == \" \":\n",
    "            return False\n",
    "  return True"
   ],
   "outputs": [],
   "execution_count": 15
  },
  {
   "cell_type": "markdown",
   "metadata": {
    "id": "yFlgILME86gj"
   },
   "source": [
    "**Step 8: Write a function that asks for a player's next position (as a number 1-9) and then uses the function from step 6 to check if it's a free position. If it is, then return the position for later use.**"
   ]
  },
  {
   "cell_type": "code",
   "metadata": {
    "collapsed": true,
    "jupyter": {
     "outputs_hidden": true
    },
    "id": "-KgovNPn86gj",
    "ExecuteTime": {
     "end_time": "2025-08-24T17:11:06.067911Z",
     "start_time": "2025-08-24T17:11:06.063729Z"
    }
   },
   "source": [
    "def player_choice(board):\n",
    "    position = 0\n",
    "\n",
    "    while position not in range(1, 10) or not space_check(board, position):\n",
    "        position_input = input(\"Choose your next position (1-9): \")\n",
    "\n",
    "        if not position_input.isdigit():\n",
    "            print(\"Invalid input. Please enter a number between 1 and 9.\")\n",
    "            continue\n",
    "\n",
    "        position = int(position_input)\n",
    "\n",
    "        if position not in range(1, 10):\n",
    "            print(\"Invalid position. Please choose a number between 1 and 9.\")\n",
    "        elif not space_check(board, position):\n",
    "            print(\"That position is already taken. Try again.\")\n",
    "\n",
    "    return position"
   ],
   "outputs": [],
   "execution_count": 16
  },
  {
   "cell_type": "markdown",
   "metadata": {
    "id": "nZJXU-2r86gj"
   },
   "source": [
    "**Step 9: Write a function that asks the player if they want to play again and returns a boolean True if they do want to play again.**"
   ]
  },
  {
   "cell_type": "code",
   "metadata": {
    "collapsed": true,
    "jupyter": {
     "outputs_hidden": true
    },
    "id": "1VSt2MjA86gj",
    "ExecuteTime": {
     "end_time": "2025-08-24T17:11:07.105778Z",
     "start_time": "2025-08-24T17:11:07.102193Z"
    }
   },
   "source": [
    "def replay():\n",
    "   choice = input(\"Do you want to play again? Enter Yes or No: \").lower()\n",
    "   return choice == \"yes\""
   ],
   "outputs": [],
   "execution_count": 17
  },
  {
   "cell_type": "markdown",
   "metadata": {
    "collapsed": true,
    "jupyter": {
     "outputs_hidden": true
    },
    "id": "WDHxwUQC86gj"
   },
   "source": [
    "**Step 10: Here comes the hard part! Use while loops and the functions you've made to run the game!**"
   ]
  },
  {
   "cell_type": "code",
   "metadata": {
    "collapsed": true,
    "jupyter": {
     "outputs_hidden": true
    },
    "id": "_lzRCDH686gj",
    "outputId": "6615300f-d63a-4013-811b-7a86ab7e5371",
    "colab": {
     "base_uri": "https://localhost:8080/"
    }
   },
   "source": [
    "print('Welcome to Tic Tac Toe!')\n",
    "\n",
    "while True:\n",
    "    the_board = [' '] * 10\n",
    "    player1_marker, player2_marker = player_input()\n",
    "    turn = choose_first()\n",
    "    print(turn + \" will go first.\")\n",
    "\n",
    "    play_game = input(\"Are you ready to play? Enter Yes or No: \").lower()\n",
    "    if play_game == 'yes':\n",
    "        game_on = True\n",
    "    else:\n",
    "        game_on = False\n",
    "\n",
    "    while game_on:\n",
    "        if turn == 'Player 1':\n",
    "            display_board(the_board)\n",
    "            position = player_choice(the_board)\n",
    "            place_marker(the_board, player1_marker, position)\n",
    "\n",
    "            if win_check(the_board, player1_marker):\n",
    "                display_board(the_board)\n",
    "                print(\"Congratulations! Player 1 has won the game!\")\n",
    "                game_on = False\n",
    "            else:\n",
    "                if full_board_check(the_board):\n",
    "                    display_board(the_board)\n",
    "                    print(\"The game is a draw!\")\n",
    "                    break\n",
    "                else:\n",
    "                    turn = 'Player 2'\n",
    "\n",
    "        else:\n",
    "            display_board(the_board)\n",
    "            position = player_choice(the_board)\n",
    "            place_marker(the_board, player2_marker, position)\n",
    "\n",
    "            if win_check(the_board, player2_marker):\n",
    "                display_board(the_board)\n",
    "                print(\"Player 2 has won!\")\n",
    "                game_on = False\n",
    "            else:\n",
    "                if full_board_check(the_board):\n",
    "                    display_board(the_board)\n",
    "                    print(\"The game is a draw!\")\n",
    "                    break\n",
    "                else:\n",
    "                    turn = 'Player 1'\n",
    "\n",
    "    if not replay():\n",
    "        print(\"Thanks for playing Tic Tac Toe!\")\n",
    "        break\n"
   ],
   "execution_count": 18,
   "outputs": [
    {
     "name": "stdout",
     "output_type": "stream",
     "text": [
      "Thanks for playing Tic Tac Toe!\n"
     ]
    }
   ]
  },
  {
   "cell_type": "markdown",
   "metadata": {
    "collapsed": true,
    "jupyter": {
     "outputs_hidden": true
    },
    "id": "Xsa40z8Z86gj"
   },
   "source": [
    "## Good Job!"
   ]
  },
  {
   "metadata": {},
   "cell_type": "markdown",
   "source": [
    "# Tic Tac Toe Game (Python + Tkinter)\n",
    "\n",
    "This project is a **Tic Tac Toe** game created using Python's **Tkinter** library.\n",
    "It features a graphical user interface (GUI) where two players can play **X vs O** on a 3x3 board.\n",
    "\n",
    "---\n",
    "\n",
    "## Features\n",
    "- 🎮 **Two-player gameplay** with alternating turns.\n",
    "- 🎨 **Colored X and O**:\n",
    "  - X → Red (`#e74c3c`)\n",
    "  - O → Blue (`#3498db`)\n",
    "- 🖱️ **Hover effect** on empty cells.\n",
    "- 🔁 **Replay button** to start a new game.\n",
    "- 📢 **Message box alerts** for wins and draws.\n",
    "\n",
    "---\n",
    "\n",
    "## Code Explanation\n",
    "\n",
    "### 1. Importing Libraries\n",
    "```python\n",
    "import tkinter as tk\n",
    "from tkinter import messagebox\n"
   ]
  },
  {
   "cell_type": "code",
   "source": [
    "import tkinter as tk\n",
    "from tkinter import messagebox\n",
    "\n",
    "def tic_tac_toe_gui():\n",
    "    current_player = \"X\"\n",
    "    board = [\" \"] * 10\n",
    "\n",
    "    root = tk.Tk()\n",
    "    root.title(\"Tic Tac Toe\")\n",
    "    root.config(bg=\"#2c3e50\")\n",
    "\n",
    "    btn_bg = \"#ecf0f1\"\n",
    "    btn_font = (\"Helvetica\", 20, \"bold\")\n",
    "    player_colors = {\"X\": \"#e74c3c\", \"O\": \"#3498db\"}\n",
    "\n",
    "    def reset_game():\n",
    "        nonlocal current_player, board\n",
    "        board = [\" \"] * 10\n",
    "        current_player = \"X\"\n",
    "        for btn in buttons:\n",
    "            btn.config(text=\" \", state=\"normal\", bg=btn_bg)\n",
    "\n",
    "    def check_winner():\n",
    "        win_combos = [\n",
    "            (1,2,3), (4,5,6), (7,8,9),\n",
    "            (1,4,7), (2,5,8), (3,6,9),\n",
    "            (1,5,9), (3,5,7)\n",
    "        ]\n",
    "        for a,b,c in win_combos:\n",
    "            if board[a] == board[b] == board[c] != \" \":\n",
    "                return True\n",
    "        return False\n",
    "\n",
    "    def check_full():\n",
    "        return all(space != \" \" for space in board[1:])\n",
    "\n",
    "    def on_click(pos):\n",
    "        nonlocal current_player\n",
    "        if board[pos] == \" \":\n",
    "            board[pos] = current_player\n",
    "            buttons[pos-1].config(text=current_player, fg=player_colors[current_player])\n",
    "\n",
    "            if check_winner():\n",
    "                messagebox.showinfo(\"Game Over\", f\"Player {current_player} wins!\")\n",
    "            elif check_full():\n",
    "                messagebox.showinfo(\"Game Over\", \"It's a draw!\")\n",
    "            else:\n",
    "                current_player = \"O\" if current_player == \"X\" else \"X\"\n",
    "\n",
    "    def on_hover(event, btn):\n",
    "        if btn[\"text\"] == \" \":\n",
    "            btn.config(bg=\"#bdc3c7\")\n",
    "\n",
    "    def on_leave(event, btn):\n",
    "        if btn[\"text\"] == \" \":\n",
    "            btn.config(bg=btn_bg)\n",
    "\n",
    "    buttons = []\n",
    "    for i in range(1, 10):\n",
    "        btn = tk.Button(root, text=\" \", font=btn_font, width=5, height=2, bg=btn_bg,\n",
    "                        command=lambda i=i: on_click(i))\n",
    "        btn.grid(row=(i-1)//3, column=(i-1)%3, padx=5, pady=5)\n",
    "        btn.bind(\"<Enter>\", lambda e, b=btn: on_hover(e, b))\n",
    "        btn.bind(\"<Leave>\", lambda e, b=btn: on_leave(e, b))\n",
    "        buttons.append(btn)\n",
    "\n",
    "    replay_btn = tk.Button(root, text=\"Replay\", font=(\"Helvetica\", 14, \"bold\"), bg=\"#1abc9c\", fg=\"white\", command=reset_game)\n",
    "    replay_btn.grid(row=3, column=0, columnspan=3, sticky=\"nsew\", padx=5, pady=10)\n",
    "\n",
    "    root.mainloop()\n",
    "\n",
    "tic_tac_toe_gui()\n"
   ],
   "metadata": {
    "id": "9q9-ZHiBDG52",
    "outputId": "a41305d2-ef5c-4811-a92d-3ac0175688ab",
    "colab": {
     "base_uri": "https://localhost:8080/",
     "height": 333
    },
    "ExecuteTime": {
     "end_time": "2025-08-24T18:10:04.327565Z",
     "start_time": "2025-08-24T18:09:52.111678Z"
    }
   },
   "outputs": [],
   "execution_count": 3
  }
 ],
 "metadata": {
  "kernelspec": {
   "display_name": "Python 3 (ipykernel)",
   "language": "python",
   "name": "python3"
  },
  "language_info": {
   "codemirror_mode": {
    "name": "ipython",
    "version": 3
   },
   "file_extension": ".py",
   "mimetype": "text/x-python",
   "name": "python",
   "nbconvert_exporter": "python",
   "pygments_lexer": "ipython3",
   "version": "3.12.7"
  },
  "colab": {
   "provenance": []
  }
 },
 "nbformat": 4,
 "nbformat_minor": 0
}
