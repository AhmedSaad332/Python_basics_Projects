{
  "cells": [
    {
      "cell_type": "markdown",
      "metadata": {
        "id": "i3CjnTVRSWJZ"
      },
      "source": [
        "# Warm Up Project Exercises\n",
        "\n",
        "It is time to get you to put together all your skills to start building usable projects! Before you jump into our full milestone project, we will go through some warm-up component exercises, to get you comfortable with a few key ideas we use in the milestone project and larger projects in general, specifically:\n",
        "\n",
        "* Getting User Input\n",
        "* Creating Functions that edit variables based on user input\n",
        "* Generating output\n",
        "* Joining User Inputs and Logic Flow"
      ]
    },
    {
      "cell_type": "markdown",
      "metadata": {
        "id": "LJAcj2TkSWJh"
      },
      "source": [
        "## Function to Display Information\n",
        "\n",
        "**Creating a function that displays a list for the user**"
      ]
    },
    {
      "cell_type": "code",
      "execution_count": null,
      "metadata": {
        "id": "8BWoFABmSWJi"
      },
      "outputs": [],
      "source": [
        "def display_list(mylist):\n",
        "    print(mylist)"
      ]
    },
    {
      "cell_type": "code",
      "execution_count": null,
      "metadata": {
        "id": "wgDJYhSLSWJl"
      },
      "outputs": [],
      "source": [
        "mylist = [0,1,2,3,4,5,6,7,8,9,10]\n",
        "display_list(mylist)"
      ]
    },
    {
      "cell_type": "markdown",
      "metadata": {
        "id": "aZ3dkixuSWJl"
      },
      "source": [
        "## Accepting User Input\n",
        "\n",
        "**Creating function that takes in an input from user and returns the result in the correct data type. Be careful when using the input() function, running that cell twice without providing an input value will cause python to get hung up waiting for the initial value on the first run. You will notice an In[*\\] next to the cell if it gets stuck, in which case, simply restart the kernel and re-run any necessary cells.**"
      ]
    },
    {
      "cell_type": "code",
      "execution_count": 1,
      "metadata": {
        "id": "wObEPBrxSWJm",
        "outputId": "29852959-e724-48a4-f2c4-a63947320168",
        "colab": {
          "base_uri": "https://localhost:8080/",
          "height": 54
        }
      },
      "outputs": [
        {
          "name": "stdout",
          "output_type": "stream",
          "text": [
            "Please enter a value: 12\n"
          ]
        },
        {
          "output_type": "execute_result",
          "data": {
            "text/plain": [
              "'12'"
            ],
            "application/vnd.google.colaboratory.intrinsic+json": {
              "type": "string"
            }
          },
          "metadata": {},
          "execution_count": 1
        }
      ],
      "source": [
        "input('Please enter a value: ')"
      ]
    },
    {
      "cell_type": "code",
      "execution_count": 2,
      "metadata": {
        "id": "xj9aS2rxSWJm",
        "outputId": "34de6eb5-b4c0-407e-cf23-839289040f78",
        "colab": {
          "base_uri": "https://localhost:8080/"
        }
      },
      "outputs": [
        {
          "name": "stdout",
          "output_type": "stream",
          "text": [
            "Please enter a number: 13\n"
          ]
        }
      ],
      "source": [
        "result = input(\"Please enter a number: \")"
      ]
    },
    {
      "cell_type": "code",
      "execution_count": 3,
      "metadata": {
        "id": "gdJPQ7EVSWJn",
        "outputId": "ff501be2-d34b-4452-aa13-5b328005ece5",
        "colab": {
          "base_uri": "https://localhost:8080/",
          "height": 36
        }
      },
      "outputs": [
        {
          "output_type": "execute_result",
          "data": {
            "text/plain": [
              "'13'"
            ],
            "application/vnd.google.colaboratory.intrinsic+json": {
              "type": "string"
            }
          },
          "metadata": {},
          "execution_count": 3
        }
      ],
      "source": [
        "result"
      ]
    },
    {
      "cell_type": "code",
      "execution_count": 4,
      "metadata": {
        "id": "zLY7aUa5SWJn",
        "outputId": "293c84ea-132b-4ce0-f7ec-9e7d660fe0b7",
        "colab": {
          "base_uri": "https://localhost:8080/"
        }
      },
      "outputs": [
        {
          "output_type": "execute_result",
          "data": {
            "text/plain": [
              "str"
            ]
          },
          "metadata": {},
          "execution_count": 4
        }
      ],
      "source": [
        "type(result)"
      ]
    },
    {
      "cell_type": "code",
      "execution_count": 5,
      "metadata": {
        "id": "jpPLXOlfSWJn",
        "outputId": "62db5093-5292-42a9-b5e5-2461bed3ee8c",
        "colab": {
          "base_uri": "https://localhost:8080/"
        }
      },
      "outputs": [
        {
          "output_type": "execute_result",
          "data": {
            "text/plain": [
              "13"
            ]
          },
          "metadata": {},
          "execution_count": 5
        }
      ],
      "source": [
        "int(result)"
      ]
    },
    {
      "cell_type": "code",
      "execution_count": 10,
      "metadata": {
        "id": "m1iXSevqSWJn",
        "outputId": "9d72845f-2fc0-47db-a056-ec4d3bf91974",
        "colab": {
          "base_uri": "https://localhost:8080/"
        }
      },
      "outputs": [
        {
          "name": "stdout",
          "output_type": "stream",
          "text": [
            "Please enter a number: 14\n"
          ]
        }
      ],
      "source": [
        "result = int(input(\"Please enter a number: \"))"
      ]
    },
    {
      "cell_type": "code",
      "execution_count": 11,
      "metadata": {
        "id": "Np9XQzFqSWJo",
        "outputId": "a699f6a3-0080-45fa-809a-ff057670f69d",
        "colab": {
          "base_uri": "https://localhost:8080/"
        }
      },
      "outputs": [
        {
          "output_type": "execute_result",
          "data": {
            "text/plain": [
              "int"
            ]
          },
          "metadata": {},
          "execution_count": 11
        }
      ],
      "source": [
        "type(result)"
      ]
    },
    {
      "cell_type": "code",
      "execution_count": 12,
      "metadata": {
        "id": "-ThIzy0KSWJo",
        "outputId": "44aef433-23c9-4724-fc57-27aea84f0866",
        "colab": {
          "base_uri": "https://localhost:8080/"
        }
      },
      "outputs": [
        {
          "name": "stdout",
          "output_type": "stream",
          "text": [
            "Please enter a number: 15\n"
          ]
        }
      ],
      "source": [
        "# Example of an error!\n",
        "result = int(input(\"Please enter a number: \"))"
      ]
    },
    {
      "cell_type": "markdown",
      "metadata": {
        "id": "uyIPF2fPSWJo"
      },
      "source": [
        "** Creating a function to hold this logic: **"
      ]
    },
    {
      "cell_type": "code",
      "execution_count": 13,
      "metadata": {
        "id": "9iY45LTqSWJo"
      },
      "outputs": [],
      "source": [
        "def user_choice():\n",
        "    while True:\n",
        "        choice = input(\"Please input a number (0-10): \")\n",
        "\n",
        "        if choice.isdigit():\n",
        "            choice = int(choice)\n",
        "\n",
        "            if choice in range(0,11):\n",
        "                return choice\n",
        "            else:\n",
        "                print(\"Number must be between 0 and 10.\")\n",
        "        else:\n",
        "            print(\"Invalid input. Please enter a number between 0 and 10.\")"
      ]
    },
    {
      "cell_type": "code",
      "execution_count": 15,
      "metadata": {
        "id": "Oop8DiIvSWJo",
        "outputId": "f90484de-cad0-4261-f0bb-457fa79166c7",
        "colab": {
          "base_uri": "https://localhost:8080/"
        }
      },
      "outputs": [
        {
          "name": "stdout",
          "output_type": "stream",
          "text": [
            "Please input a number (0-10): 11\n",
            "Number must be between 0 and 10.\n",
            "Please input a number (0-10): 1\n"
          ]
        },
        {
          "output_type": "execute_result",
          "data": {
            "text/plain": [
              "1"
            ]
          },
          "metadata": {},
          "execution_count": 15
        }
      ],
      "source": [
        "user_choice()"
      ]
    },
    {
      "cell_type": "code",
      "execution_count": 16,
      "metadata": {
        "id": "Ty4mEhR3SWJo",
        "outputId": "502ddc62-c2de-4fd3-8ad8-4d3bc3e3383e",
        "colab": {
          "base_uri": "https://localhost:8080/"
        }
      },
      "outputs": [
        {
          "name": "stdout",
          "output_type": "stream",
          "text": [
            "Please input a number (0-10): 1\n"
          ]
        }
      ],
      "source": [
        "result = user_choice()"
      ]
    },
    {
      "cell_type": "code",
      "execution_count": 17,
      "metadata": {
        "id": "exgtnx9uSWJo",
        "outputId": "ba9d278a-d032-4d89-dc23-1f8c68a56ccc",
        "colab": {
          "base_uri": "https://localhost:8080/"
        }
      },
      "outputs": [
        {
          "output_type": "execute_result",
          "data": {
            "text/plain": [
              "1"
            ]
          },
          "metadata": {},
          "execution_count": 17
        }
      ],
      "source": [
        "result"
      ]
    },
    {
      "cell_type": "code",
      "execution_count": 18,
      "metadata": {
        "id": "ife7P3-8SWJp",
        "outputId": "0c9d160f-7456-4ca8-c738-49efc7caa627",
        "colab": {
          "base_uri": "https://localhost:8080/"
        }
      },
      "outputs": [
        {
          "output_type": "execute_result",
          "data": {
            "text/plain": [
              "int"
            ]
          },
          "metadata": {},
          "execution_count": 18
        }
      ],
      "source": [
        "type(result)"
      ]
    },
    {
      "cell_type": "markdown",
      "metadata": {
        "id": "d9EBF35jSWJp"
      },
      "source": [
        "## Validating User Input\n",
        "\n",
        "** Check that input is valid before attempting to convert.**\n",
        "\n",
        "We'll use a simple method here.\n",
        "\n",
        "As you get more advanced, you can start looking at other ways of doing this (these methods will make more sense later on in the course, so don't worry about them for now).\n",
        "\n",
        "* [Various Posts on This](https://www.google.com/search?q=python+check+if+input+is+number)\n",
        "* [StackOverflow Post 1](https://stackoverflow.com/questions/5424716/how-to-check-if-string-input-is-a-number)\n",
        "* [StackOverflow Post 2](https://stackoverflow.com/questions/1265665/how-can-i-check-if-a-string-represents-an-int-without-using-try-except)"
      ]
    },
    {
      "cell_type": "code",
      "execution_count": 19,
      "metadata": {
        "id": "vYhTaKXUSWJp"
      },
      "outputs": [],
      "source": [
        "some_input = '10'"
      ]
    },
    {
      "cell_type": "code",
      "execution_count": 20,
      "metadata": {
        "id": "HDtzCUeTSWJp",
        "outputId": "c822057e-73e5-440f-ce88-d5018d014cf1",
        "colab": {
          "base_uri": "https://localhost:8080/"
        }
      },
      "outputs": [
        {
          "output_type": "execute_result",
          "data": {
            "text/plain": [
              "True"
            ]
          },
          "metadata": {},
          "execution_count": 20
        }
      ],
      "source": [
        "# Lot's of .is methods availble on string\n",
        "some_input.isdigit()"
      ]
    },
    {
      "cell_type": "markdown",
      "metadata": {
        "id": "4O-Ps_WJSWJp"
      },
      "source": [
        "** Edit the function to confirm against an acceptable value or type **"
      ]
    },
    {
      "cell_type": "code",
      "execution_count": 23,
      "metadata": {
        "id": "matPLgRMSWJp"
      },
      "outputs": [],
      "source": [
        "def user_choice():\n",
        "    choice = 'wrong'\n",
        "    while not (choice.isdigit() and 0 <= int(choice) <= 10):\n",
        "        choice = input(\"Choose a number (0-10): \")\n",
        "        if not choice.isdigit():\n",
        "            print(\"Invalid input. Please enter digits only.\")\n",
        "        elif not (0 <= int(choice) <= 10):\n",
        "            print(\"Please enter a number between 0 and 10.\")\n",
        "    return int(choice)\n"
      ]
    },
    {
      "cell_type": "code",
      "execution_count": 24,
      "metadata": {
        "id": "uut9NN6_SWJp",
        "outputId": "216ede55-3814-4a20-f56a-81175ac8a611",
        "colab": {
          "base_uri": "https://localhost:8080/"
        }
      },
      "outputs": [
        {
          "name": "stdout",
          "output_type": "stream",
          "text": [
            "Choose a number (0-10): 1\n"
          ]
        },
        {
          "output_type": "execute_result",
          "data": {
            "text/plain": [
              "1"
            ]
          },
          "metadata": {},
          "execution_count": 24
        }
      ],
      "source": [
        "user_choice()"
      ]
    },
    {
      "cell_type": "markdown",
      "metadata": {
        "id": "XWZ2PUj-SWJp"
      },
      "source": [
        "**Let's try adding an error message within the while loop!**"
      ]
    },
    {
      "cell_type": "code",
      "execution_count": 25,
      "metadata": {
        "id": "rvMu1uiSSWJp"
      },
      "outputs": [],
      "source": [
        "def user_choice():\n",
        "    choice = 'wrong'\n",
        "\n",
        "    while not (choice.isdigit() and 0 <= int(choice) <= 10):\n",
        "        choice = input(\"Choose a number (0-10): \")\n",
        "\n",
        "        if not choice.isdigit():\n",
        "            print(\"Sorry, but you did not enter an integer. Please try again.\")\n",
        "        elif not (0 <= int(choice) <= 10):\n",
        "            print(\"Number out of range. Please enter a number between 0 and 10.\")\n",
        "\n",
        "    return int(choice)"
      ]
    },
    {
      "cell_type": "code",
      "execution_count": 27,
      "metadata": {
        "id": "KaXk654rSWJp",
        "outputId": "a1d671aa-4150-41b2-a0da-4359b2245835",
        "colab": {
          "base_uri": "https://localhost:8080/"
        }
      },
      "outputs": [
        {
          "name": "stdout",
          "output_type": "stream",
          "text": [
            "Choose a number (0-10): 11\n",
            "Number out of range. Please enter a number between 0 and 10.\n",
            "Choose a number (0-10): 1\n"
          ]
        },
        {
          "output_type": "execute_result",
          "data": {
            "text/plain": [
              "1"
            ]
          },
          "metadata": {},
          "execution_count": 27
        }
      ],
      "source": [
        "user_choice()"
      ]
    },
    {
      "cell_type": "markdown",
      "metadata": {
        "id": "ksBuIZCdSWJp"
      },
      "source": [
        "**Now let's explore how to \"clear\" the output, that way we don't see the history of the \"Choose a number\" statements.**\n",
        "\n",
        "**NOTE: Jupyter Notebook users will use the IPython method shown here. Other IDE users (PyCharm, VS, etc..) will use **"
      ]
    },
    {
      "cell_type": "code",
      "execution_count": 28,
      "metadata": {
        "id": "XnG-9fpxSWJp"
      },
      "outputs": [],
      "source": [
        "from IPython.display import clear_output\n",
        "\n",
        "def user_choice():\n",
        "    choice = 'wrong'\n",
        "\n",
        "    while not (choice.isdigit() and 0 <= int(choice) <= 10):\n",
        "        choice = input(\"Choose a number (0-10): \")\n",
        "        clear_output()\n",
        "\n",
        "        if not choice.isdigit():\n",
        "            print(\"Sorry, but you did not enter an integer. Please try again.\")\n",
        "        elif not (0 <= int(choice) <= 10):\n",
        "            print(\"Number out of range. Please enter a number between 0 and 10.\")\n",
        "\n",
        "    return int(choice)\n"
      ]
    },
    {
      "cell_type": "code",
      "execution_count": 29,
      "metadata": {
        "id": "mcq-ZkUcSWJp"
      },
      "outputs": [],
      "source": [
        "from IPython.display import clear_output\n",
        "\n",
        "def user_choice():\n",
        "    choice = 'wrong'\n",
        "\n",
        "    while not (choice.isdigit() and 0 <= int(choice) <= 10):\n",
        "        choice = input(\"Choose a number (0-10): \")\n",
        "\n",
        "        if not (choice.isdigit() and 0 <= int(choice) <= 10):\n",
        "            clear_output()\n",
        "            print(\"Invalid input. Please enter a number between 0 and 10.\")\n",
        "\n",
        "    return int(choice)"
      ]
    },
    {
      "cell_type": "code",
      "execution_count": 32,
      "metadata": {
        "id": "usfGFHNjSWJq",
        "outputId": "70efae06-f5b8-4e09-ef4e-24fc4c6678bf",
        "colab": {
          "base_uri": "https://localhost:8080/"
        }
      },
      "outputs": [
        {
          "name": "stdout",
          "output_type": "stream",
          "text": [
            "Choose a number (0-10): 3\n"
          ]
        },
        {
          "output_type": "execute_result",
          "data": {
            "text/plain": [
              "3"
            ]
          },
          "metadata": {},
          "execution_count": 32
        }
      ],
      "source": [
        "user_choice()"
      ]
    },
    {
      "cell_type": "markdown",
      "metadata": {
        "id": "nX19JaViSWJq"
      },
      "source": [
        "**Checking Against Multiple Possible Values**"
      ]
    },
    {
      "cell_type": "code",
      "execution_count": 33,
      "metadata": {
        "id": "li2MW72KSWJq"
      },
      "outputs": [],
      "source": [
        "result = 'wrong value'\n",
        "acceptable_values = ['0','1','2']"
      ]
    },
    {
      "cell_type": "code",
      "execution_count": 34,
      "metadata": {
        "id": "pp0rcZigSWJq",
        "outputId": "099cc484-d94d-4a2f-fbbf-9b619b3bb808",
        "colab": {
          "base_uri": "https://localhost:8080/"
        }
      },
      "outputs": [
        {
          "output_type": "execute_result",
          "data": {
            "text/plain": [
              "False"
            ]
          },
          "metadata": {},
          "execution_count": 34
        }
      ],
      "source": [
        "result in acceptable_values"
      ]
    },
    {
      "cell_type": "code",
      "execution_count": 35,
      "metadata": {
        "id": "oIfH_VlISWJq",
        "outputId": "ece38d28-a3b0-41f3-f10e-41ae506662be",
        "colab": {
          "base_uri": "https://localhost:8080/"
        }
      },
      "outputs": [
        {
          "output_type": "execute_result",
          "data": {
            "text/plain": [
              "True"
            ]
          },
          "metadata": {},
          "execution_count": 35
        }
      ],
      "source": [
        "result not in acceptable_values"
      ]
    },
    {
      "cell_type": "code",
      "execution_count": 36,
      "metadata": {
        "id": "h-LXECKDSWJq"
      },
      "outputs": [],
      "source": [
        "from IPython.display import clear_output\n",
        "clear_output()"
      ]
    },
    {
      "cell_type": "code",
      "execution_count": 38,
      "metadata": {
        "id": "20bwLcaiSWJq"
      },
      "outputs": [],
      "source": [
        "from IPython.display import clear_output\n",
        "\n",
        "def user_choice():\n",
        "    choice = 'wrong'\n",
        "\n",
        "    while choice not in ['0', '1', '2']:\n",
        "        choice = input(\"Choose one of these numbers (0, 1, 2): \")\n",
        "\n",
        "        if choice not in ['0', '1', '2']:\n",
        "            clear_output()\n",
        "            print(\"Sorry, but you did not choose a value in the correct range (0, 1, 2)\")\n",
        "\n",
        "    return int(choice)"
      ]
    },
    {
      "cell_type": "code",
      "execution_count": 40,
      "metadata": {
        "scrolled": true,
        "id": "xIKUTcsSSWJr",
        "outputId": "e489d6a8-1b55-4170-cf0c-8e96ef7db0b4",
        "colab": {
          "base_uri": "https://localhost:8080/"
        }
      },
      "outputs": [
        {
          "name": "stdout",
          "output_type": "stream",
          "text": [
            "Sorry, but you did not choose a value in the correct range (0, 1, 2)\n",
            "Choose one of these numbers (0, 1, 2): 2\n"
          ]
        },
        {
          "output_type": "execute_result",
          "data": {
            "text/plain": [
              "2"
            ]
          },
          "metadata": {},
          "execution_count": 40
        }
      ],
      "source": [
        "user_choice()"
      ]
    },
    {
      "cell_type": "markdown",
      "metadata": {
        "id": "_ri5VYKrSWJv"
      },
      "source": [
        "### More Flexible Example"
      ]
    },
    {
      "cell_type": "code",
      "execution_count": 41,
      "metadata": {
        "id": "vM0zbmOCSWJv"
      },
      "outputs": [],
      "source": [
        "def user_choice():\n",
        "\n",
        "    choice ='WRONG'\n",
        "    within_range = False\n",
        "\n",
        "    while choice.isdigit() == False or within_range == False:\n",
        "\n",
        "\n",
        "\n",
        "        choice = input(\"Please enter a number (0-10): \")\n",
        "\n",
        "        if choice.isdigit() == False:\n",
        "            print(\"Sorry that is not a digit!\")\n",
        "\n",
        "        if choice.isdigit() == True:\n",
        "            if int(choice) in range(0,10+1):\n",
        "                within_range = True\n",
        "            else:\n",
        "                within_range = False\n",
        "\n",
        "\n",
        "    return int(choice)"
      ]
    },
    {
      "cell_type": "code",
      "execution_count": 42,
      "metadata": {
        "id": "9fUN63tvSWJv",
        "outputId": "baa65f15-25ec-4029-f32b-1c4c08fa194a",
        "colab": {
          "base_uri": "https://localhost:8080/"
        }
      },
      "outputs": [
        {
          "name": "stdout",
          "output_type": "stream",
          "text": [
            "Please enter a number (0-10): 1\n"
          ]
        },
        {
          "output_type": "execute_result",
          "data": {
            "text/plain": [
              "1"
            ]
          },
          "metadata": {},
          "execution_count": 42
        }
      ],
      "source": [
        "user_choice()"
      ]
    },
    {
      "cell_type": "markdown",
      "metadata": {
        "id": "qoZOtiOySWJw"
      },
      "source": [
        "-----\n",
        "## Simple User Interaction\n",
        "\n",
        "**Finally let's combine all of these ideas to create a small game where a user can choose a \"position\" in an existing list and replace it with a value of their choice.**"
      ]
    },
    {
      "cell_type": "code",
      "execution_count": 43,
      "metadata": {
        "id": "rUoQoB-7SWJw"
      },
      "outputs": [],
      "source": [
        "game_list = [0,1,2]"
      ]
    },
    {
      "cell_type": "code",
      "execution_count": 44,
      "metadata": {
        "id": "PZGHs1RLSWJw"
      },
      "outputs": [],
      "source": [
        "def display_game(game_list):\n",
        "    print(\"Here is the current list\")\n",
        "    print(game_list)"
      ]
    },
    {
      "cell_type": "code",
      "execution_count": 45,
      "metadata": {
        "id": "9BJKwbq3SWJw",
        "outputId": "2c5a2cb0-9107-41dd-cc89-2a722fde841c",
        "colab": {
          "base_uri": "https://localhost:8080/"
        }
      },
      "outputs": [
        {
          "output_type": "stream",
          "name": "stdout",
          "text": [
            "Here is the current list\n",
            "[0, 1, 2]\n"
          ]
        }
      ],
      "source": [
        "display_game(game_list)"
      ]
    },
    {
      "cell_type": "code",
      "execution_count": 46,
      "metadata": {
        "id": "6dyyTVkWSWJw"
      },
      "outputs": [],
      "source": [
        "from IPython.display import clear_output\n",
        "\n",
        "def position_choice(valid_positions=['0', '1', '2']):\n",
        "    choice = 'wrong'\n",
        "\n",
        "    while choice not in valid_positions:\n",
        "        choice = input(f\"Pick a position to replace {tuple(valid_positions)}: \")\n",
        "\n",
        "        if choice not in valid_positions:\n",
        "            clear_output()\n",
        "            print(f\"Sorry, but you did not choose a valid position {tuple(valid_positions)}\")\n",
        "\n",
        "    return int(choice)"
      ]
    },
    {
      "cell_type": "code",
      "execution_count": 47,
      "metadata": {
        "id": "QSaq7_OsSWJw"
      },
      "outputs": [],
      "source": [
        "def replacement_choice(game_list,position):\n",
        "\n",
        "    user_placement = input(\"Type a string to place at the position\")\n",
        "\n",
        "    game_list[position] = user_placement\n",
        "\n",
        "    return game_list"
      ]
    },
    {
      "cell_type": "code",
      "execution_count": 48,
      "metadata": {
        "id": "T0z_y47sSWJw"
      },
      "outputs": [],
      "source": [
        "from IPython.display import clear_output\n",
        "\n",
        "def gameon_choice():\n",
        "    choice = 'wrong'\n",
        "\n",
        "    while choice not in ['Y', 'N']:\n",
        "        choice = input(\"Would you like to keep playing? Y or N: \").upper()\n",
        "\n",
        "        if choice not in ['Y', 'N']:\n",
        "            clear_output()\n",
        "            print(\"Sorry, I didn't understand. Please make sure to choose Y or N.\")\n",
        "\n",
        "    return choice == 'Y'"
      ]
    },
    {
      "cell_type": "markdown",
      "metadata": {
        "id": "7uLfVtMkSWJw"
      },
      "source": [
        "**Game Logic All Together**"
      ]
    },
    {
      "cell_type": "code",
      "execution_count": 51,
      "metadata": {
        "id": "G7OK0i1USWJw",
        "outputId": "f89c0d82-71c5-4dc4-d3e3-e7577eda1aed",
        "colab": {
          "base_uri": "https://localhost:8080/"
        }
      },
      "outputs": [
        {
          "name": "stdout",
          "output_type": "stream",
          "text": [
            "Current Game List:\n",
            "[0, 'Ahmed', 2]\n",
            "Would you like to keep playing? Y or N: N\n"
          ]
        }
      ],
      "source": [
        "from IPython.display import clear_output\n",
        "\n",
        "def display_game(game_list):\n",
        "    print(\"Current Game List:\")\n",
        "    print(game_list)\n",
        "\n",
        "def position_choice(valid_positions=['0', '1', '2']):\n",
        "    choice = 'wrong'\n",
        "    while choice not in valid_positions:\n",
        "        choice = input(f\"Pick a position to replace {tuple(valid_positions)}: \")\n",
        "        if choice not in valid_positions:\n",
        "            clear_output()\n",
        "            print(f\"Sorry, but you did not choose a valid position {tuple(valid_positions)}\")\n",
        "    return int(choice)\n",
        "\n",
        "def replacement_choice(game_list, position):\n",
        "    replacement = input(\"Type a string to place at the position: \")\n",
        "    game_list[position] = replacement\n",
        "    return game_list\n",
        "\n",
        "def gameon_choice():\n",
        "    choice = 'wrong'\n",
        "    while choice not in ['Y', 'N']:\n",
        "        choice = input(\"Would you like to keep playing? Y or N: \").upper()\n",
        "        if choice not in ['Y', 'N']:\n",
        "            clear_output()\n",
        "            print(\"Sorry, I didn't understand. Please make sure to choose Y or N.\")\n",
        "    return choice == 'Y'\n",
        "\n",
        "\n",
        "game_on = True\n",
        "game_list = [0, 1, 2]\n",
        "\n",
        "while game_on:\n",
        "    clear_output()\n",
        "    display_game(game_list)\n",
        "\n",
        "    position = position_choice()\n",
        "    game_list = replacement_choice(game_list, position)\n",
        "\n",
        "    clear_output()\n",
        "    display_game(game_list)\n",
        "\n",
        "    game_on = gameon_choice()"
      ]
    },
    {
      "cell_type": "markdown",
      "metadata": {
        "id": "95tSO9C1SWJw"
      },
      "source": [
        "**Great work! You now have an understanding of bringing functions and loop logics together to build a simple game. This will be expanded upon in the Milestone project!**"
      ]
    }
  ],
  "metadata": {
    "kernelspec": {
      "display_name": "Python 3 (ipykernel)",
      "language": "python",
      "name": "python3"
    },
    "language_info": {
      "codemirror_mode": {
        "name": "ipython",
        "version": 3
      },
      "file_extension": ".py",
      "mimetype": "text/x-python",
      "name": "python",
      "nbconvert_exporter": "python",
      "pygments_lexer": "ipython3",
      "version": "3.12.7"
    },
    "colab": {
      "provenance": []
    }
  },
  "nbformat": 4,
  "nbformat_minor": 0
}